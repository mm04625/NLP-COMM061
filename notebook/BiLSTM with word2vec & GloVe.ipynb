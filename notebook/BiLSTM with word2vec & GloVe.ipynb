{
  "cells": [
    {
      "cell_type": "code",
      "execution_count": 4,
      "metadata": {
        "colab": {
          "base_uri": "https://localhost:8080/"
        },
        "collapsed": true,
        "id": "XvWFN6PDR2iG",
        "outputId": "1a786d12-01b5-4fd6-a3af-0beea698a672"
      },
      "outputs": [
        {
          "name": "stdout",
          "output_type": "stream",
          "text": [
            "Requirement already satisfied: torch in c:\\users\\hp\\appdata\\local\\programs\\python\\python313\\lib\\site-packages (2.7.0)\n",
            "Requirement already satisfied: torchvision in c:\\users\\hp\\appdata\\local\\programs\\python\\python313\\lib\\site-packages (0.22.0)\n",
            "Requirement already satisfied: torchaudio in c:\\users\\hp\\appdata\\local\\programs\\python\\python313\\lib\\site-packages (2.7.0)\n",
            "Requirement already satisfied: filelock in c:\\users\\hp\\appdata\\local\\programs\\python\\python313\\lib\\site-packages (from torch) (3.17.0)\n",
            "Requirement already satisfied: typing-extensions>=4.10.0 in c:\\users\\hp\\appdata\\local\\programs\\python\\python313\\lib\\site-packages (from torch) (4.12.2)\n",
            "Requirement already satisfied: sympy>=1.13.3 in c:\\users\\hp\\appdata\\local\\programs\\python\\python313\\lib\\site-packages (from torch) (1.14.0)\n",
            "Requirement already satisfied: networkx in c:\\users\\hp\\appdata\\local\\programs\\python\\python313\\lib\\site-packages (from torch) (3.4.2)\n",
            "Requirement already satisfied: jinja2 in c:\\users\\hp\\appdata\\local\\programs\\python\\python313\\lib\\site-packages (from torch) (3.1.5)\n",
            "Requirement already satisfied: fsspec in c:\\users\\hp\\appdata\\local\\programs\\python\\python313\\lib\\site-packages (from torch) (2025.3.0)\n",
            "Requirement already satisfied: setuptools in c:\\users\\hp\\appdata\\local\\programs\\python\\python313\\lib\\site-packages (from torch) (80.4.0)\n",
            "Requirement already satisfied: numpy in c:\\users\\hp\\appdata\\local\\programs\\python\\python313\\lib\\site-packages (from torchvision) (2.2.3)\n",
            "Requirement already satisfied: pillow!=8.3.*,>=5.3.0 in c:\\users\\hp\\appdata\\local\\programs\\python\\python313\\lib\\site-packages (from torchvision) (11.2.1)\n",
            "Requirement already satisfied: mpmath<1.4,>=1.1.0 in c:\\users\\hp\\appdata\\local\\programs\\python\\python313\\lib\\site-packages (from sympy>=1.13.3->torch) (1.3.0)\n",
            "Requirement already satisfied: MarkupSafe>=2.0 in c:\\users\\hp\\appdata\\local\\programs\\python\\python313\\lib\\site-packages (from jinja2->torch) (3.0.2)\n",
            "Requirement already satisfied: transformers in c:\\users\\hp\\appdata\\local\\programs\\python\\python313\\lib\\site-packages (4.51.3)\n",
            "Requirement already satisfied: datasets in c:\\users\\hp\\appdata\\local\\programs\\python\\python313\\lib\\site-packages (3.6.0)\n",
            "Requirement already satisfied: scikit-learn in c:\\users\\hp\\appdata\\local\\programs\\python\\python313\\lib\\site-packages (1.6.1)\n",
            "Requirement already satisfied: seaborn in c:\\users\\hp\\appdata\\local\\programs\\python\\python313\\lib\\site-packages (0.13.2)\n",
            "Requirement already satisfied: matplotlib in c:\\users\\hp\\appdata\\local\\programs\\python\\python313\\lib\\site-packages (3.10.1)\n",
            "Requirement already satisfied: gensim in c:\\users\\hp\\appdata\\local\\programs\\python\\python313\\lib\\site-packages (0.10.1)\n",
            "Requirement already satisfied: filelock in c:\\users\\hp\\appdata\\local\\programs\\python\\python313\\lib\\site-packages (from transformers) (3.17.0)\n",
            "Requirement already satisfied: huggingface-hub<1.0,>=0.30.0 in c:\\users\\hp\\appdata\\local\\programs\\python\\python313\\lib\\site-packages (from transformers) (0.31.2)\n",
            "Requirement already satisfied: numpy>=1.17 in c:\\users\\hp\\appdata\\local\\programs\\python\\python313\\lib\\site-packages (from transformers) (2.2.3)\n",
            "Requirement already satisfied: packaging>=20.0 in c:\\users\\hp\\appdata\\roaming\\python\\python313\\site-packages (from transformers) (24.2)\n",
            "Requirement already satisfied: pyyaml>=5.1 in c:\\users\\hp\\appdata\\local\\programs\\python\\python313\\lib\\site-packages (from transformers) (6.0.2)\n",
            "Requirement already satisfied: regex!=2019.12.17 in c:\\users\\hp\\appdata\\local\\programs\\python\\python313\\lib\\site-packages (from transformers) (2024.11.6)\n",
            "Requirement already satisfied: requests in c:\\users\\hp\\appdata\\local\\programs\\python\\python313\\lib\\site-packages (from transformers) (2.32.3)\n",
            "Requirement already satisfied: tokenizers<0.22,>=0.21 in c:\\users\\hp\\appdata\\local\\programs\\python\\python313\\lib\\site-packages (from transformers) (0.21.1)\n",
            "Requirement already satisfied: safetensors>=0.4.3 in c:\\users\\hp\\appdata\\local\\programs\\python\\python313\\lib\\site-packages (from transformers) (0.5.3)\n",
            "Requirement already satisfied: tqdm>=4.27 in c:\\users\\hp\\appdata\\local\\programs\\python\\python313\\lib\\site-packages (from transformers) (4.67.1)\n",
            "Requirement already satisfied: fsspec>=2023.5.0 in c:\\users\\hp\\appdata\\local\\programs\\python\\python313\\lib\\site-packages (from huggingface-hub<1.0,>=0.30.0->transformers) (2025.3.0)\n",
            "Requirement already satisfied: typing-extensions>=3.7.4.3 in c:\\users\\hp\\appdata\\local\\programs\\python\\python313\\lib\\site-packages (from huggingface-hub<1.0,>=0.30.0->transformers) (4.12.2)\n",
            "Requirement already satisfied: pyarrow>=15.0.0 in c:\\users\\hp\\appdata\\local\\programs\\python\\python313\\lib\\site-packages (from datasets) (20.0.0)\n",
            "Requirement already satisfied: dill<0.3.9,>=0.3.0 in c:\\users\\hp\\appdata\\local\\programs\\python\\python313\\lib\\site-packages (from datasets) (0.3.8)\n",
            "Requirement already satisfied: pandas in c:\\users\\hp\\appdata\\local\\programs\\python\\python313\\lib\\site-packages (from datasets) (2.2.3)\n",
            "Requirement already satisfied: xxhash in c:\\users\\hp\\appdata\\local\\programs\\python\\python313\\lib\\site-packages (from datasets) (3.5.0)\n",
            "Requirement already satisfied: multiprocess<0.70.17 in c:\\users\\hp\\appdata\\local\\programs\\python\\python313\\lib\\site-packages (from datasets) (0.70.16)\n",
            "Requirement already satisfied: aiohttp!=4.0.0a0,!=4.0.0a1 in c:\\users\\hp\\appdata\\local\\programs\\python\\python313\\lib\\site-packages (from fsspec[http]<=2025.3.0,>=2023.1.0->datasets) (3.11.18)\n",
            "Requirement already satisfied: scipy>=1.6.0 in c:\\users\\hp\\appdata\\local\\programs\\python\\python313\\lib\\site-packages (from scikit-learn) (1.15.2)\n",
            "Requirement already satisfied: joblib>=1.2.0 in c:\\users\\hp\\appdata\\local\\programs\\python\\python313\\lib\\site-packages (from scikit-learn) (1.5.0)\n",
            "Requirement already satisfied: threadpoolctl>=3.1.0 in c:\\users\\hp\\appdata\\local\\programs\\python\\python313\\lib\\site-packages (from scikit-learn) (3.6.0)\n",
            "Requirement already satisfied: contourpy>=1.0.1 in c:\\users\\hp\\appdata\\local\\programs\\python\\python313\\lib\\site-packages (from matplotlib) (1.3.2)\n",
            "Requirement already satisfied: cycler>=0.10 in c:\\users\\hp\\appdata\\local\\programs\\python\\python313\\lib\\site-packages (from matplotlib) (0.12.1)\n",
            "Requirement already satisfied: fonttools>=4.22.0 in c:\\users\\hp\\appdata\\local\\programs\\python\\python313\\lib\\site-packages (from matplotlib) (4.57.0)\n",
            "Requirement already satisfied: kiwisolver>=1.3.1 in c:\\users\\hp\\appdata\\local\\programs\\python\\python313\\lib\\site-packages (from matplotlib) (1.4.8)\n",
            "Requirement already satisfied: pillow>=8 in c:\\users\\hp\\appdata\\local\\programs\\python\\python313\\lib\\site-packages (from matplotlib) (11.2.1)\n",
            "Requirement already satisfied: pyparsing>=2.3.1 in c:\\users\\hp\\appdata\\local\\programs\\python\\python313\\lib\\site-packages (from matplotlib) (3.2.3)\n",
            "Requirement already satisfied: python-dateutil>=2.7 in c:\\users\\hp\\appdata\\roaming\\python\\python313\\site-packages (from matplotlib) (2.9.0.post0)\n",
            "Requirement already satisfied: six>=1.2.0 in c:\\users\\hp\\appdata\\roaming\\python\\python313\\site-packages (from gensim) (1.17.0)\n",
            "Requirement already satisfied: aiohappyeyeballs>=2.3.0 in c:\\users\\hp\\appdata\\local\\programs\\python\\python313\\lib\\site-packages (from aiohttp!=4.0.0a0,!=4.0.0a1->fsspec[http]<=2025.3.0,>=2023.1.0->datasets) (2.6.1)\n",
            "Requirement already satisfied: aiosignal>=1.1.2 in c:\\users\\hp\\appdata\\local\\programs\\python\\python313\\lib\\site-packages (from aiohttp!=4.0.0a0,!=4.0.0a1->fsspec[http]<=2025.3.0,>=2023.1.0->datasets) (1.3.2)\n",
            "Requirement already satisfied: attrs>=17.3.0 in c:\\users\\hp\\appdata\\local\\programs\\python\\python313\\lib\\site-packages (from aiohttp!=4.0.0a0,!=4.0.0a1->fsspec[http]<=2025.3.0,>=2023.1.0->datasets) (25.1.0)\n",
            "Requirement already satisfied: frozenlist>=1.1.1 in c:\\users\\hp\\appdata\\local\\programs\\python\\python313\\lib\\site-packages (from aiohttp!=4.0.0a0,!=4.0.0a1->fsspec[http]<=2025.3.0,>=2023.1.0->datasets) (1.6.0)\n",
            "Requirement already satisfied: multidict<7.0,>=4.5 in c:\\users\\hp\\appdata\\local\\programs\\python\\python313\\lib\\site-packages (from aiohttp!=4.0.0a0,!=4.0.0a1->fsspec[http]<=2025.3.0,>=2023.1.0->datasets) (6.4.3)\n",
            "Requirement already satisfied: propcache>=0.2.0 in c:\\users\\hp\\appdata\\local\\programs\\python\\python313\\lib\\site-packages (from aiohttp!=4.0.0a0,!=4.0.0a1->fsspec[http]<=2025.3.0,>=2023.1.0->datasets) (0.3.1)\n",
            "Requirement already satisfied: yarl<2.0,>=1.17.0 in c:\\users\\hp\\appdata\\local\\programs\\python\\python313\\lib\\site-packages (from aiohttp!=4.0.0a0,!=4.0.0a1->fsspec[http]<=2025.3.0,>=2023.1.0->datasets) (1.20.0)\n",
            "Requirement already satisfied: idna>=2.0 in c:\\users\\hp\\appdata\\local\\programs\\python\\python313\\lib\\site-packages (from yarl<2.0,>=1.17.0->aiohttp!=4.0.0a0,!=4.0.0a1->fsspec[http]<=2025.3.0,>=2023.1.0->datasets) (3.10)\n",
            "Requirement already satisfied: pytz>=2020.1 in c:\\users\\hp\\appdata\\local\\programs\\python\\python313\\lib\\site-packages (from pandas->datasets) (2025.1)\n",
            "Requirement already satisfied: tzdata>=2022.7 in c:\\users\\hp\\appdata\\local\\programs\\python\\python313\\lib\\site-packages (from pandas->datasets) (2025.1)\n",
            "Requirement already satisfied: charset-normalizer<4,>=2 in c:\\users\\hp\\appdata\\local\\programs\\python\\python313\\lib\\site-packages (from requests->transformers) (3.4.1)\n",
            "Requirement already satisfied: urllib3<3,>=1.21.1 in c:\\users\\hp\\appdata\\local\\programs\\python\\python313\\lib\\site-packages (from requests->transformers) (2.3.0)\n",
            "Requirement already satisfied: certifi>=2017.4.17 in c:\\users\\hp\\appdata\\local\\programs\\python\\python313\\lib\\site-packages (from requests->transformers) (2025.1.31)\n",
            "Requirement already satisfied: colorama in c:\\users\\hp\\appdata\\roaming\\python\\python313\\site-packages (from tqdm>=4.27->transformers) (0.4.6)\n",
            "Requirement already satisfied: seqeval in c:\\users\\hp\\appdata\\local\\programs\\python\\python313\\lib\\site-packages (1.2.2)\n",
            "Requirement already satisfied: torch in c:\\users\\hp\\appdata\\local\\programs\\python\\python313\\lib\\site-packages (2.7.0)\n",
            "Requirement already satisfied: matplotlib in c:\\users\\hp\\appdata\\local\\programs\\python\\python313\\lib\\site-packages (3.10.1)\n",
            "Requirement already satisfied: numpy in c:\\users\\hp\\appdata\\local\\programs\\python\\python313\\lib\\site-packages (2.2.3)\n",
            "Requirement already satisfied: pandas in c:\\users\\hp\\appdata\\local\\programs\\python\\python313\\lib\\site-packages (2.2.3)\n",
            "Requirement already satisfied: scikit-learn>=0.21.3 in c:\\users\\hp\\appdata\\local\\programs\\python\\python313\\lib\\site-packages (from seqeval) (1.6.1)\n",
            "Requirement already satisfied: filelock in c:\\users\\hp\\appdata\\local\\programs\\python\\python313\\lib\\site-packages (from torch) (3.17.0)\n",
            "Requirement already satisfied: typing-extensions>=4.10.0 in c:\\users\\hp\\appdata\\local\\programs\\python\\python313\\lib\\site-packages (from torch) (4.12.2)\n",
            "Requirement already satisfied: sympy>=1.13.3 in c:\\users\\hp\\appdata\\local\\programs\\python\\python313\\lib\\site-packages (from torch) (1.14.0)\n",
            "Requirement already satisfied: networkx in c:\\users\\hp\\appdata\\local\\programs\\python\\python313\\lib\\site-packages (from torch) (3.4.2)\n",
            "Requirement already satisfied: jinja2 in c:\\users\\hp\\appdata\\local\\programs\\python\\python313\\lib\\site-packages (from torch) (3.1.5)\n",
            "Requirement already satisfied: fsspec in c:\\users\\hp\\appdata\\local\\programs\\python\\python313\\lib\\site-packages (from torch) (2025.3.0)\n",
            "Requirement already satisfied: setuptools in c:\\users\\hp\\appdata\\local\\programs\\python\\python313\\lib\\site-packages (from torch) (80.4.0)\n",
            "Requirement already satisfied: contourpy>=1.0.1 in c:\\users\\hp\\appdata\\local\\programs\\python\\python313\\lib\\site-packages (from matplotlib) (1.3.2)\n",
            "Requirement already satisfied: cycler>=0.10 in c:\\users\\hp\\appdata\\local\\programs\\python\\python313\\lib\\site-packages (from matplotlib) (0.12.1)\n",
            "Requirement already satisfied: fonttools>=4.22.0 in c:\\users\\hp\\appdata\\local\\programs\\python\\python313\\lib\\site-packages (from matplotlib) (4.57.0)\n",
            "Requirement already satisfied: kiwisolver>=1.3.1 in c:\\users\\hp\\appdata\\local\\programs\\python\\python313\\lib\\site-packages (from matplotlib) (1.4.8)\n",
            "Requirement already satisfied: packaging>=20.0 in c:\\users\\hp\\appdata\\roaming\\python\\python313\\site-packages (from matplotlib) (24.2)\n",
            "Requirement already satisfied: pillow>=8 in c:\\users\\hp\\appdata\\local\\programs\\python\\python313\\lib\\site-packages (from matplotlib) (11.2.1)\n",
            "Requirement already satisfied: pyparsing>=2.3.1 in c:\\users\\hp\\appdata\\local\\programs\\python\\python313\\lib\\site-packages (from matplotlib) (3.2.3)\n",
            "Requirement already satisfied: python-dateutil>=2.7 in c:\\users\\hp\\appdata\\roaming\\python\\python313\\site-packages (from matplotlib) (2.9.0.post0)\n",
            "Requirement already satisfied: pytz>=2020.1 in c:\\users\\hp\\appdata\\local\\programs\\python\\python313\\lib\\site-packages (from pandas) (2025.1)\n",
            "Requirement already satisfied: tzdata>=2022.7 in c:\\users\\hp\\appdata\\local\\programs\\python\\python313\\lib\\site-packages (from pandas) (2025.1)\n",
            "Requirement already satisfied: six>=1.5 in c:\\users\\hp\\appdata\\roaming\\python\\python313\\site-packages (from python-dateutil>=2.7->matplotlib) (1.17.0)\n",
            "Requirement already satisfied: scipy>=1.6.0 in c:\\users\\hp\\appdata\\local\\programs\\python\\python313\\lib\\site-packages (from scikit-learn>=0.21.3->seqeval) (1.15.2)\n",
            "Requirement already satisfied: joblib>=1.2.0 in c:\\users\\hp\\appdata\\local\\programs\\python\\python313\\lib\\site-packages (from scikit-learn>=0.21.3->seqeval) (1.5.0)\n",
            "Requirement already satisfied: threadpoolctl>=3.1.0 in c:\\users\\hp\\appdata\\local\\programs\\python\\python313\\lib\\site-packages (from scikit-learn>=0.21.3->seqeval) (3.6.0)\n",
            "Requirement already satisfied: mpmath<1.4,>=1.1.0 in c:\\users\\hp\\appdata\\local\\programs\\python\\python313\\lib\\site-packages (from sympy>=1.13.3->torch) (1.3.0)\n",
            "Requirement already satisfied: MarkupSafe>=2.0 in c:\\users\\hp\\appdata\\local\\programs\\python\\python313\\lib\\site-packages (from jinja2->torch) (3.0.2)\n",
            "Collecting sentence-transformers\n",
            "  Downloading sentence_transformers-4.1.0-py3-none-any.whl.metadata (13 kB)\n",
            "Requirement already satisfied: transformers<5.0.0,>=4.41.0 in c:\\users\\hp\\appdata\\local\\programs\\python\\python313\\lib\\site-packages (from sentence-transformers) (4.51.3)\n",
            "Requirement already satisfied: tqdm in c:\\users\\hp\\appdata\\local\\programs\\python\\python313\\lib\\site-packages (from sentence-transformers) (4.67.1)\n",
            "Requirement already satisfied: torch>=1.11.0 in c:\\users\\hp\\appdata\\local\\programs\\python\\python313\\lib\\site-packages (from sentence-transformers) (2.7.0)\n",
            "Requirement already satisfied: scikit-learn in c:\\users\\hp\\appdata\\local\\programs\\python\\python313\\lib\\site-packages (from sentence-transformers) (1.6.1)\n",
            "Requirement already satisfied: scipy in c:\\users\\hp\\appdata\\local\\programs\\python\\python313\\lib\\site-packages (from sentence-transformers) (1.15.2)\n",
            "Requirement already satisfied: huggingface-hub>=0.20.0 in c:\\users\\hp\\appdata\\local\\programs\\python\\python313\\lib\\site-packages (from sentence-transformers) (0.31.2)\n",
            "Requirement already satisfied: Pillow in c:\\users\\hp\\appdata\\local\\programs\\python\\python313\\lib\\site-packages (from sentence-transformers) (11.2.1)\n",
            "Requirement already satisfied: typing_extensions>=4.5.0 in c:\\users\\hp\\appdata\\local\\programs\\python\\python313\\lib\\site-packages (from sentence-transformers) (4.12.2)\n",
            "Requirement already satisfied: filelock in c:\\users\\hp\\appdata\\local\\programs\\python\\python313\\lib\\site-packages (from transformers<5.0.0,>=4.41.0->sentence-transformers) (3.17.0)\n",
            "Requirement already satisfied: numpy>=1.17 in c:\\users\\hp\\appdata\\local\\programs\\python\\python313\\lib\\site-packages (from transformers<5.0.0,>=4.41.0->sentence-transformers) (2.2.3)\n",
            "Requirement already satisfied: packaging>=20.0 in c:\\users\\hp\\appdata\\roaming\\python\\python313\\site-packages (from transformers<5.0.0,>=4.41.0->sentence-transformers) (24.2)\n",
            "Requirement already satisfied: pyyaml>=5.1 in c:\\users\\hp\\appdata\\local\\programs\\python\\python313\\lib\\site-packages (from transformers<5.0.0,>=4.41.0->sentence-transformers) (6.0.2)\n",
            "Requirement already satisfied: regex!=2019.12.17 in c:\\users\\hp\\appdata\\local\\programs\\python\\python313\\lib\\site-packages (from transformers<5.0.0,>=4.41.0->sentence-transformers) (2024.11.6)\n",
            "Requirement already satisfied: requests in c:\\users\\hp\\appdata\\local\\programs\\python\\python313\\lib\\site-packages (from transformers<5.0.0,>=4.41.0->sentence-transformers) (2.32.3)\n",
            "Requirement already satisfied: tokenizers<0.22,>=0.21 in c:\\users\\hp\\appdata\\local\\programs\\python\\python313\\lib\\site-packages (from transformers<5.0.0,>=4.41.0->sentence-transformers) (0.21.1)\n",
            "Requirement already satisfied: safetensors>=0.4.3 in c:\\users\\hp\\appdata\\local\\programs\\python\\python313\\lib\\site-packages (from transformers<5.0.0,>=4.41.0->sentence-transformers) (0.5.3)\n",
            "Requirement already satisfied: fsspec>=2023.5.0 in c:\\users\\hp\\appdata\\local\\programs\\python\\python313\\lib\\site-packages (from huggingface-hub>=0.20.0->sentence-transformers) (2025.3.0)\n",
            "Requirement already satisfied: sympy>=1.13.3 in c:\\users\\hp\\appdata\\local\\programs\\python\\python313\\lib\\site-packages (from torch>=1.11.0->sentence-transformers) (1.14.0)\n",
            "Requirement already satisfied: networkx in c:\\users\\hp\\appdata\\local\\programs\\python\\python313\\lib\\site-packages (from torch>=1.11.0->sentence-transformers) (3.4.2)\n",
            "Requirement already satisfied: jinja2 in c:\\users\\hp\\appdata\\local\\programs\\python\\python313\\lib\\site-packages (from torch>=1.11.0->sentence-transformers) (3.1.5)\n",
            "Requirement already satisfied: setuptools in c:\\users\\hp\\appdata\\local\\programs\\python\\python313\\lib\\site-packages (from torch>=1.11.0->sentence-transformers) (80.4.0)\n",
            "Requirement already satisfied: mpmath<1.4,>=1.1.0 in c:\\users\\hp\\appdata\\local\\programs\\python\\python313\\lib\\site-packages (from sympy>=1.13.3->torch>=1.11.0->sentence-transformers) (1.3.0)\n",
            "Requirement already satisfied: colorama in c:\\users\\hp\\appdata\\roaming\\python\\python313\\site-packages (from tqdm->sentence-transformers) (0.4.6)\n",
            "Requirement already satisfied: MarkupSafe>=2.0 in c:\\users\\hp\\appdata\\local\\programs\\python\\python313\\lib\\site-packages (from jinja2->torch>=1.11.0->sentence-transformers) (3.0.2)\n",
            "Requirement already satisfied: charset-normalizer<4,>=2 in c:\\users\\hp\\appdata\\local\\programs\\python\\python313\\lib\\site-packages (from requests->transformers<5.0.0,>=4.41.0->sentence-transformers) (3.4.1)\n",
            "Requirement already satisfied: idna<4,>=2.5 in c:\\users\\hp\\appdata\\local\\programs\\python\\python313\\lib\\site-packages (from requests->transformers<5.0.0,>=4.41.0->sentence-transformers) (3.10)\n",
            "Requirement already satisfied: urllib3<3,>=1.21.1 in c:\\users\\hp\\appdata\\local\\programs\\python\\python313\\lib\\site-packages (from requests->transformers<5.0.0,>=4.41.0->sentence-transformers) (2.3.0)\n",
            "Requirement already satisfied: certifi>=2017.4.17 in c:\\users\\hp\\appdata\\local\\programs\\python\\python313\\lib\\site-packages (from requests->transformers<5.0.0,>=4.41.0->sentence-transformers) (2025.1.31)\n",
            "Requirement already satisfied: joblib>=1.2.0 in c:\\users\\hp\\appdata\\local\\programs\\python\\python313\\lib\\site-packages (from scikit-learn->sentence-transformers) (1.5.0)\n",
            "Requirement already satisfied: threadpoolctl>=3.1.0 in c:\\users\\hp\\appdata\\local\\programs\\python\\python313\\lib\\site-packages (from scikit-learn->sentence-transformers) (3.6.0)\n",
            "Downloading sentence_transformers-4.1.0-py3-none-any.whl (345 kB)\n",
            "Installing collected packages: sentence-transformers\n",
            "Successfully installed sentence-transformers-4.1.0\n",
            "Requirement already satisfied: accelerate in c:\\users\\hp\\appdata\\local\\programs\\python\\python313\\lib\\site-packages (1.6.0)\n",
            "Requirement already satisfied: numpy<3.0.0,>=1.17 in c:\\users\\hp\\appdata\\local\\programs\\python\\python313\\lib\\site-packages (from accelerate) (2.2.3)\n",
            "Requirement already satisfied: packaging>=20.0 in c:\\users\\hp\\appdata\\roaming\\python\\python313\\site-packages (from accelerate) (24.2)\n",
            "Requirement already satisfied: psutil in c:\\users\\hp\\appdata\\roaming\\python\\python313\\site-packages (from accelerate) (7.0.0)\n",
            "Requirement already satisfied: pyyaml in c:\\users\\hp\\appdata\\local\\programs\\python\\python313\\lib\\site-packages (from accelerate) (6.0.2)\n",
            "Requirement already satisfied: torch>=2.0.0 in c:\\users\\hp\\appdata\\local\\programs\\python\\python313\\lib\\site-packages (from accelerate) (2.7.0)\n",
            "Requirement already satisfied: huggingface-hub>=0.21.0 in c:\\users\\hp\\appdata\\local\\programs\\python\\python313\\lib\\site-packages (from accelerate) (0.31.2)\n",
            "Requirement already satisfied: safetensors>=0.4.3 in c:\\users\\hp\\appdata\\local\\programs\\python\\python313\\lib\\site-packages (from accelerate) (0.5.3)\n",
            "Requirement already satisfied: filelock in c:\\users\\hp\\appdata\\local\\programs\\python\\python313\\lib\\site-packages (from huggingface-hub>=0.21.0->accelerate) (3.17.0)\n",
            "Requirement already satisfied: fsspec>=2023.5.0 in c:\\users\\hp\\appdata\\local\\programs\\python\\python313\\lib\\site-packages (from huggingface-hub>=0.21.0->accelerate) (2025.3.0)\n",
            "Requirement already satisfied: requests in c:\\users\\hp\\appdata\\local\\programs\\python\\python313\\lib\\site-packages (from huggingface-hub>=0.21.0->accelerate) (2.32.3)\n",
            "Requirement already satisfied: tqdm>=4.42.1 in c:\\users\\hp\\appdata\\local\\programs\\python\\python313\\lib\\site-packages (from huggingface-hub>=0.21.0->accelerate) (4.67.1)\n",
            "Requirement already satisfied: typing-extensions>=3.7.4.3 in c:\\users\\hp\\appdata\\local\\programs\\python\\python313\\lib\\site-packages (from huggingface-hub>=0.21.0->accelerate) (4.12.2)\n",
            "Requirement already satisfied: sympy>=1.13.3 in c:\\users\\hp\\appdata\\local\\programs\\python\\python313\\lib\\site-packages (from torch>=2.0.0->accelerate) (1.14.0)\n",
            "Requirement already satisfied: networkx in c:\\users\\hp\\appdata\\local\\programs\\python\\python313\\lib\\site-packages (from torch>=2.0.0->accelerate) (3.4.2)\n",
            "Requirement already satisfied: jinja2 in c:\\users\\hp\\appdata\\local\\programs\\python\\python313\\lib\\site-packages (from torch>=2.0.0->accelerate) (3.1.5)\n",
            "Requirement already satisfied: setuptools in c:\\users\\hp\\appdata\\local\\programs\\python\\python313\\lib\\site-packages (from torch>=2.0.0->accelerate) (80.4.0)\n",
            "Requirement already satisfied: mpmath<1.4,>=1.1.0 in c:\\users\\hp\\appdata\\local\\programs\\python\\python313\\lib\\site-packages (from sympy>=1.13.3->torch>=2.0.0->accelerate) (1.3.0)\n",
            "Requirement already satisfied: colorama in c:\\users\\hp\\appdata\\roaming\\python\\python313\\site-packages (from tqdm>=4.42.1->huggingface-hub>=0.21.0->accelerate) (0.4.6)\n",
            "Requirement already satisfied: MarkupSafe>=2.0 in c:\\users\\hp\\appdata\\local\\programs\\python\\python313\\lib\\site-packages (from jinja2->torch>=2.0.0->accelerate) (3.0.2)\n",
            "Requirement already satisfied: charset-normalizer<4,>=2 in c:\\users\\hp\\appdata\\local\\programs\\python\\python313\\lib\\site-packages (from requests->huggingface-hub>=0.21.0->accelerate) (3.4.1)\n",
            "Requirement already satisfied: idna<4,>=2.5 in c:\\users\\hp\\appdata\\local\\programs\\python\\python313\\lib\\site-packages (from requests->huggingface-hub>=0.21.0->accelerate) (3.10)\n",
            "Requirement already satisfied: urllib3<3,>=1.21.1 in c:\\users\\hp\\appdata\\local\\programs\\python\\python313\\lib\\site-packages (from requests->huggingface-hub>=0.21.0->accelerate) (2.3.0)\n",
            "Requirement already satisfied: certifi>=2017.4.17 in c:\\users\\hp\\appdata\\local\\programs\\python\\python313\\lib\\site-packages (from requests->huggingface-hub>=0.21.0->accelerate) (2025.1.31)\n"
          ]
        }
      ],
      "source": [
        "!pip install torch torchvision torchaudio\n",
        "!pip install transformers datasets scikit-learn seaborn matplotlib gensim\n",
        "!pip install seqeval torch matplotlib numpy pandas\n",
        "!pip install -U sentence-transformers\n",
        "!pip install -U accelerate\n",
        "\n"
      ]
    },
    {
      "cell_type": "code",
      "execution_count": 5,
      "metadata": {},
      "outputs": [
        {
          "ename": "ModuleNotFoundError",
          "evalue": "No module named 'numpy'",
          "output_type": "error",
          "traceback": [
            "\u001b[1;31m---------------------------------------------------------------------------\u001b[0m",
            "\u001b[1;31mModuleNotFoundError\u001b[0m                       Traceback (most recent call last)",
            "Cell \u001b[1;32mIn[5], line 1\u001b[0m\n\u001b[1;32m----> 1\u001b[0m \u001b[38;5;28;01mimport\u001b[39;00m\u001b[38;5;250m \u001b[39m\u001b[38;5;21;01mnumpy\u001b[39;00m\u001b[38;5;250m \u001b[39m\u001b[38;5;28;01mas\u001b[39;00m\u001b[38;5;250m \u001b[39m\u001b[38;5;21;01mnp\u001b[39;00m\n\u001b[0;32m      2\u001b[0m \u001b[38;5;28;01mimport\u001b[39;00m\u001b[38;5;250m \u001b[39m\u001b[38;5;21;01mtorch\u001b[39;00m\n\u001b[0;32m      3\u001b[0m \u001b[38;5;28;01mimport\u001b[39;00m\u001b[38;5;250m \u001b[39m\u001b[38;5;21;01mtorch\u001b[39;00m\u001b[38;5;21;01m.\u001b[39;00m\u001b[38;5;21;01mnn\u001b[39;00m\u001b[38;5;250m \u001b[39m\u001b[38;5;28;01mas\u001b[39;00m\u001b[38;5;250m \u001b[39m\u001b[38;5;21;01mnn\u001b[39;00m\n",
            "\u001b[1;31mModuleNotFoundError\u001b[0m: No module named 'numpy'"
          ]
        }
      ],
      "source": [
        "import numpy as np\n",
        "import torch\n",
        "import torch.nn as nn\n",
        "from torch.utils.data import Dataset, DataLoader\n",
        "import gensim.downloader as api  # for loading pre-trained Word2Vec\n",
        "from torch.nn.utils.rnn import pad_sequence\n",
        "from datasets import load_dataset    \n",
        "from torch.optim import Adam\n",
        "import torch.nn.functional as F\n",
        "from collections import Counter \n",
        "\n"
      ]
    },
    {
      "cell_type": "code",
      "execution_count": 26,
      "metadata": {
        "colab": {
          "base_uri": "https://localhost:8080/",
          "height": 339
        },
        "id": "UMNUgtaex9Wh",
        "outputId": "a9e386f1-5fc6-4627-dbad-2edbf49c33dc"
      },
      "outputs": [
        {
          "name": "stdout",
          "output_type": "stream",
          "text": [
            "DatasetDict({\n",
            "    train: Dataset({\n",
            "        features: ['tokens', 'pos_tags', 'ner_tags'],\n",
            "        num_rows: 2000\n",
            "    })\n",
            "    test: Dataset({\n",
            "        features: ['tokens', 'pos_tags', 'ner_tags'],\n",
            "        num_rows: 250\n",
            "    })\n",
            "    validation: Dataset({\n",
            "        features: ['tokens', 'pos_tags', 'ner_tags'],\n",
            "        num_rows: 150\n",
            "    })\n",
            "})\n"
          ]
        }
      ],
      "source": [
        "from datasets import load_dataset\n",
        "plod_dataset = load_dataset(\"surrey-nlp/PLOD-CW-25\")\n",
        "print(plod_dataset)"
      ]
    },
    {
      "cell_type": "code",
      "execution_count": 11,
      "metadata": {
        "id": "cg5_pFZvQ5pk"
      },
      "outputs": [],
      "source": [
        "data_train=plod_dataset['train']\n",
        "data_validation=plod_dataset['validation']\n",
        "data_test=plod_dataset['test']"
      ]
    },
    {
      "cell_type": "code",
      "execution_count": 12,
      "metadata": {
        "colab": {
          "base_uri": "https://localhost:8080/"
        },
        "id": "V5UuncA1CxZr",
        "outputId": "479f130a-1732-43b3-c8f4-1a7f653e16f7"
      },
      "outputs": [
        {
          "name": "stdout",
          "output_type": "stream",
          "text": [
            "Preprocessing done\n"
          ]
        }
      ],
      "source": [
        "## Preprocessing\n",
        "\n",
        "from collections import Counter\n",
        "\n",
        "# NER Tags mapping (safe way)\n",
        "if hasattr(plod_dataset[\"train\"].features[\"ner_tags\"], \"feature\") and hasattr(plod_dataset[\"train\"].features[\"ner_tags\"].feature, \"names\"):\n",
        "    ner_tag_names = plod_dataset[\"train\"].features[\"ner_tags\"].feature.names\n",
        "else:\n",
        "    # Manual fallback: put your actual label names here if available\n",
        "    ner_tag_names = ['O', 'B-AC', 'B-LF', 'I-LF']\n",
        "\n",
        "LABEL_TO_ID = {label: i for i, label in enumerate(ner_tag_names)}\n",
        "ID_TO_LABEL = {i: label for label, i in LABEL_TO_ID.items()}\n",
        "\n",
        "# Token Vocabulary\n",
        "all_tokens = [token for split in plod_dataset for ex in plod_dataset[split] for token in ex[\"tokens\"]]\n",
        "token_counts = Counter(all_tokens)\n",
        "TOKEN_VOCAB = {token: i+2 for i, (token, _) in enumerate(token_counts.most_common())}\n",
        "TOKEN_VOCAB[\"<PAD>\"] = 0\n",
        "TOKEN_VOCAB[\"<UNK>\"] = 1\n",
        "ID_TO_TOKEN = {i: token for token, i in TOKEN_VOCAB.items()}\n",
        "\n",
        "# POS Vocabulary\n",
        "all_pos_tags = [tag for split in plod_dataset for ex in plod_dataset[split] for tag in ex[\"pos_tags\"]]\n",
        "pos_tag_counts = Counter(all_pos_tags)\n",
        "POS_VOCAB = {tag: i+1 for i, (tag, _) in enumerate(pos_tag_counts.most_common())}\n",
        "POS_VOCAB[\"<PAD>\"] = 0\n",
        "ID_TO_POS = {i: tag for tag, i in POS_VOCAB.items()}\n",
        "\n",
        "print(\"Preprocessing done\")"
      ]
    },
    {
      "cell_type": "code",
      "execution_count": 13,
      "metadata": {
        "id": "UxnCm6-dDlFc"
      },
      "outputs": [],
      "source": [
        "# Labels encoders\n",
        "label_encoding = {\"O\": 0, \"B-AC\": 1, \"B-LF\": 2, \"I-LF\": 3}\n",
        "\n",
        "label_list = []\n",
        "for sample in data_train[\"ner_tags\"]:\n",
        "    label_list.append([label_encoding[tag] for tag in sample])\n",
        "\n",
        "val_label_list = []\n",
        "for sample in data_validation[\"ner_tags\"]:\n",
        "    val_label_list.append([label_encoding[tag] for tag in sample])\n",
        "\n",
        "test_label_list = []\n",
        "for sample in data_test[\"ner_tags\"]:\n",
        "    test_label_list.append([label_encoding[tag] for tag in sample])\n"
      ]
    },
    {
      "cell_type": "code",
      "execution_count": 3,
      "metadata": {
        "id": "x5hdVycuvueC"
      },
      "outputs": [
        {
          "ename": "ModuleNotFoundError",
          "evalue": "No module named 'gensim'",
          "output_type": "error",
          "traceback": [
            "\u001b[1;31m---------------------------------------------------------------------------\u001b[0m",
            "\u001b[1;31mModuleNotFoundError\u001b[0m                       Traceback (most recent call last)",
            "Cell \u001b[1;32mIn[3], line 2\u001b[0m\n\u001b[0;32m      1\u001b[0m \u001b[38;5;66;03m#Importing Word2vec Model\u001b[39;00m\n\u001b[1;32m----> 2\u001b[0m \u001b[38;5;28;01mimport\u001b[39;00m\u001b[38;5;250m \u001b[39m\u001b[38;5;21;01mgensim\u001b[39;00m\u001b[38;5;21;01m.\u001b[39;00m\u001b[38;5;21;01mdownloader\u001b[39;00m\u001b[38;5;250m \u001b[39m\u001b[38;5;28;01mas\u001b[39;00m\u001b[38;5;250m \u001b[39m\u001b[38;5;21;01mapi\u001b[39;00m\n\u001b[0;32m      3\u001b[0m word2vec_model \u001b[38;5;241m=\u001b[39m api\u001b[38;5;241m.\u001b[39mload(\u001b[38;5;124m'\u001b[39m\u001b[38;5;124mword2vec-google-news-300\u001b[39m\u001b[38;5;124m'\u001b[39m)\n",
            "\u001b[1;31mModuleNotFoundError\u001b[0m: No module named 'gensim'"
          ]
        }
      ],
      "source": [
        "#Importing Word2vec Model\n",
        "import gensim.downloader as api\n",
        "word2vec_model = api.load('word2vec-google-news-300')\n"
      ]
    },
    {
      "cell_type": "code",
      "execution_count": null,
      "metadata": {
        "id": "XGf9w33sCIOx"
      },
      "outputs": [],
      "source": [
        "# Custom Dataset Class\n",
        "class PlodTokenDataset(Dataset):\n",
        "    def __init__(self, tokens, labels, model):\n",
        "        self.tokens = tokens\n",
        "        self.labels = labels\n",
        "        self.model = model\n",
        "\n",
        "    def __len__(self):\n",
        "        return len(self.tokens)\n",
        "\n",
        "    def __getitem__(self, idx):\n",
        "        words = self.tokens[idx]\n",
        "        embeddings = [self.model[word] if word in self.model else np.zeros(300) for word in words]\n",
        "        embeddings_tensor = torch.tensor(embeddings, dtype=torch.float)\n",
        "        labels_tensor = torch.tensor(self.labels[idx], dtype=torch.long)\n",
        "        return {\"tokens\": embeddings_tensor, \"labels\": labels_tensor}\n",
        "\n",
        "\n",
        "# Custom collate_fn\n",
        "def collate_fn(batch):\n",
        "    # Padded token sequences\n",
        "    tokens_list = [item[\"tokens\"] for item in batch]\n",
        "    labels_list = [item[\"labels\"] for item in batch]\n",
        "\n",
        "    # Pad token sequences to ensure all sequences are the same length\n",
        "    padded_tokens = nn.utils.rnn.pad_sequence(tokens_list, batch_first=True, padding_value=0)\n",
        "\n",
        "    # Pad labels\n",
        "    padded_labels = nn.utils.rnn.pad_sequence(labels_list, batch_first=True, padding_value=-1)\n",
        "\n",
        "    return {\"tokens\": padded_tokens.to(DEVICE), \"labels\": padded_labels.to(DEVICE)}\n"
      ]
    },
    {
      "cell_type": "code",
      "execution_count": null,
      "metadata": {
        "id": "i-sAvxilCgoR"
      },
      "outputs": [],
      "source": [
        "# Training Data\n",
        "bilstm_dataset =  PlodTokenDataset(data_train['tokens'], label_list, word2vec_model)\n",
        "bilstm_dataloader = DataLoader(bilstm_dataset, batch_size=64, shuffle=True, collate_fn=collate_fn)\n"
      ]
    },
    {
      "cell_type": "code",
      "execution_count": null,
      "metadata": {
        "id": "ACqn68exCk6x"
      },
      "outputs": [],
      "source": [
        "# Testing Data\n",
        "bilstm_dataset_test = PlodTokenDataset(data_test['tokens'], test_label_list, word2vec_model)\n",
        "bilstm_dataloader_test = DataLoader(bilstm_dataset_test, batch_size=64, shuffle=True, collate_fn=collate_fn)"
      ]
    },
    {
      "cell_type": "code",
      "execution_count": null,
      "metadata": {
        "id": "eJ8lgsWnE6-B"
      },
      "outputs": [],
      "source": [
        "#BiLSTM model\n",
        "class BiLSTM(nn.Module):\n",
        "    def __init__(self, embedding_dim, hidden_dim, tagset_size):\n",
        "        super(BiLSTM, self).__init__()\n",
        "        self.lstm = nn.LSTM(embedding_dim, hidden_dim // 2, num_layers=1, bidirectional=True, batch_first=True)\n",
        "        self.fc = nn.Linear(hidden_dim, tagset_size)\n",
        "\n",
        "    def forward(self, x):\n",
        "        lstm_out, _ = self.lstm(x)\n",
        "        tag_space = self.fc(lstm_out)\n",
        "        tag_scores = torch.log_softmax(tag_space, dim=-1)\n",
        "        return tag_scores"
      ]
    },
    {
      "cell_type": "code",
      "execution_count": null,
      "metadata": {
        "id": "ko8GBQNtE_wh"
      },
      "outputs": [],
      "source": [
        "bilstm_model=BiLSTM(embedding_dim=300,hidden_dim=150,tagset_size=4)"
      ]
    },
    {
      "cell_type": "code",
      "execution_count": null,
      "metadata": {
        "colab": {
          "base_uri": "https://localhost:8080/"
        },
        "id": "R8x6LLk_FCoh",
        "outputId": "c2309daa-d8a0-4cc2-e775-047403789e8c"
      },
      "outputs": [
        {
          "name": "stdout",
          "output_type": "stream",
          "text": [
            "Epoch 1, Loss: 0.7300896048545837\n",
            "Epoch 2, Loss: 0.5844814777374268\n",
            "Epoch 3, Loss: 0.6060922741889954\n",
            "Epoch 4, Loss: 0.5031229257583618\n",
            "Epoch 5, Loss: 0.47756198048591614\n",
            "Epoch 6, Loss: 0.40762951970100403\n",
            "Epoch 7, Loss: 0.4948630630970001\n",
            "Epoch 8, Loss: 0.42267197370529175\n",
            "Epoch 9, Loss: 0.3137311041355133\n",
            "Epoch 10, Loss: 0.3693501055240631\n"
          ]
        }
      ],
      "source": [
        "import numpy as np\n",
        "\n",
        "optimizer = optim.Adam(bilstm_model.parameters(),lr=0.001)\n",
        "loss_function = nn.NLLLoss(ignore_index=-1)  # Ignoring padding index (-1) in the loss calculation\n",
        "\n",
        "# Training loop\n",
        "for epoch in range(10):\n",
        "    bilstm_model.train()\n",
        "    for batch in bilstm_dataloader: # iterate over batches in bilstm_dataloader\n",
        "        optimizer.zero_grad()\n",
        "        # Get inputs (tokens) and labels from the current batch\n",
        "        inputs = batch[\"tokens\"] # access the \"tokens\" key from the batch dictionary\n",
        "        labels = batch[\"labels\"] # access the \"labels\" key from the batch dictionary\n",
        "\n",
        "        outputs = bilstm_model(inputs)\n",
        "\n",
        "        loss = loss_function(outputs.view(-1, outputs.shape[-1]), labels.view(-1))\n",
        "        loss.backward()\n",
        "        optimizer.step() # calling the function optimizer.step()\n",
        "    print(f'Epoch {epoch+1}, Loss: {loss.item()}')\n"
      ]
    },
    {
      "cell_type": "code",
      "execution_count": null,
      "metadata": {
        "colab": {
          "base_uri": "https://localhost:8080/"
        },
        "id": "vid2Rta0jdgc",
        "outputId": "4144bc75-252d-4d00-a91e-47997148abe4"
      },
      "outputs": [
        {
          "name": "stdout",
          "output_type": "stream",
          "text": [
            "Word2Vec Model Performance:\n",
            "Accuracy: 0.8989\n",
            "Precision: 0.8164\n",
            "Recall: 0.7998\n",
            "F1-Score: 0.8077\n",
            "\n"
          ]
        }
      ],
      "source": [
        "from sklearn.metrics import accuracy_score, precision_recall_fscore_support\n",
        "\n",
        "# For Word2Vec model predictions\n",
        "accuracy_w2v = accuracy_score(filtered_labels, filtered_preds)\n",
        "precision_w2v, recall_w2v, f1_w2v, _ = precision_recall_fscore_support(\n",
        "    filtered_labels, filtered_preds, average='macro')\n",
        "\n",
        "print(\"Word2Vec Model Performance:\")\n",
        "print(f\"Accuracy: {accuracy_w2v:.4f}\")\n",
        "print(f\"Precision: {precision_w2v:.4f}\")\n",
        "print(f\"Recall: {recall_w2v:.4f}\")\n",
        "print(f\"F1-Score: {f1_w2v:.4f}\")\n",
        "print()"
      ]
    },
    {
      "cell_type": "code",
      "execution_count": null,
      "metadata": {
        "colab": {
          "base_uri": "https://localhost:8080/"
        },
        "id": "XEcx-IxrFFYx",
        "outputId": "1e03b5d1-5239-446b-e1f5-62442b2c9514"
      },
      "outputs": [
        {
          "name": "stdout",
          "output_type": "stream",
          "text": [
            "              precision    recall  f1-score   support\n",
            "\n",
            "           0       0.88      0.95      0.91      7751\n",
            "           1       0.82      0.58      0.68       797\n",
            "           2       0.69      0.45      0.54       482\n",
            "           3       0.70      0.60      0.64      1227\n",
            "\n",
            "    accuracy                           0.85     10257\n",
            "   macro avg       0.77      0.64      0.70     10257\n",
            "weighted avg       0.85      0.85      0.85     10257\n",
            "\n",
            "[[7355   82   73  241]\n",
            " [ 314  466    5   12]\n",
            " [ 198   10  215   59]\n",
            " [ 468    9   18  732]]\n"
          ]
        }
      ],
      "source": [
        "# Testing and evaluation\n",
        "bilstm_model.eval()\n",
        "bilstm_preds = []\n",
        "bilstm_labels = []\n",
        "with torch.no_grad():\n",
        "    for batch in test_dataloader_bilstm: # Changed to iterate over batches\n",
        "        inputs = batch[\"tokens\"]  # Accessing tokens from the batch dictionary\n",
        "        labels = batch[\"labels\"]  # Accessing labels from the batch dictionary\n",
        "        outputs = bilstm_model(inputs)\n",
        "        _, predicted = torch.max(outputs, -1)\n",
        "        bilstm_preds.extend(predicted.view(-1).tolist())\n",
        "        bilstm_labels.extend(labels.view(-1).tolist())\n",
        "\n",
        "# Filtering out padded\n",
        "filtered_preds = [p for p, l in zip(bilstm_preds, bilstm_labels) if l != -1]\n",
        "filtered_labels = [l for l in bilstm_labels if l != -1]\n",
        "\n",
        "print(classification_report(filtered_labels, filtered_preds))\n",
        "print(confusion_matrix(filtered_labels, filtered_preds))"
      ]
    },
    {
      "cell_type": "code",
      "execution_count": null,
      "metadata": {
        "id": "nUw8o-vfOIig"
      },
      "outputs": [],
      "source": [
        "bilstm_cm=calculateConfusionMatrix(filtered_labels, filtered_preds)"
      ]
    },
    {
      "cell_type": "code",
      "execution_count": null,
      "metadata": {
        "colab": {
          "base_uri": "https://localhost:8080/",
          "height": 564
        },
        "id": "pqw94gViOOkR",
        "outputId": "c25608bd-abbe-4b4b-d2e0-33270545275c"
      },
      "outputs": [
        {
          "data": {
            "image/png": "[encoded data removed]",
            "text/plain": [
              "<Figure size 800x600 with 2 Axes>"
            ]
          },
          "metadata": {},
          "output_type": "display_data"
        }
      ],
      "source": [
        "PlotConfusionMatrix(bilstm_cm)"
      ]
    },
    {
      "cell_type": "code",
      "execution_count": null,
      "metadata": {
        "id": "CmMaY6zEfslS"
      },
      "outputs": [],
      "source": [
        "text_tokens = [\"The\", \"patient\", \"was\", \"diagnosed\", \"with\", \"acute\", \"myeloid\", \"leukemia\", \"(\", \"AML\", \")\", \".\"]\n"
      ]
    },
    {
      "cell_type": "code",
      "execution_count": null,
      "metadata": {
        "id": "9cZFVMZ9fmnz"
      },
      "outputs": [],
      "source": [
        "# Prepare embedding vector for the tokens\n",
        "embeddings = [word2vec_model[word] if word in word2vec_model else np.zeros(300) for word in text_tokens]\n",
        "\n",
        "# Convert to tensor\n",
        "input_tensor = torch.tensor([embeddings], dtype=torch.float).to(DEVICE)  # [1, seq_len, 300]\n",
        "\n",
        "# Set model to eval\n",
        "bilstm_model.eval()\n",
        "\n",
        "# Predict\n",
        "with torch.no_grad():\n",
        "    outputs = bilstm_model(input_tensor)  # shape: [1, seq_len, tagset_size]\n",
        "    predicted_tags = torch.argmax(outputs, dim=-1).squeeze(0).tolist()  # remove batch dim\n"
      ]
    },
    {
      "cell_type": "code",
      "execution_count": null,
      "metadata": {
        "colab": {
          "base_uri": "https://localhost:8080/"
        },
        "id": "A6-tQTFUfohs",
        "outputId": "9b12d8e1-6933-42d5-9938-43e9af726aa4"
      },
      "outputs": [
        {
          "name": "stdout",
          "output_type": "stream",
          "text": [
            "The             --> O\n",
            "patient         --> O\n",
            "was             --> O\n",
            "diagnosed       --> O\n",
            "with            --> O\n",
            "acute           --> B-LF\n",
            "myeloid         --> I-LF\n",
            "leukemia        --> I-LF\n",
            "(               --> O\n",
            "AML             --> B-AC\n",
            ")               --> O\n",
            ".               --> O\n"
          ]
        }
      ],
      "source": [
        "# ID_TO_LABEL from your earlier steps\n",
        "predicted_labels = [ID_TO_LABEL[tag_id] for tag_id in predicted_tags]\n",
        "\n",
        "# Show result\n",
        "for token, label in zip(text_tokens, predicted_labels):\n",
        "    print(f\"{token:15s} --> {label}\")\n"
      ]
    },
    {
      "cell_type": "markdown",
      "metadata": {
        "id": "BR_20bFVPBMz"
      },
      "source": [
        "Glove"
      ]
    },
    {
      "cell_type": "code",
      "execution_count": null,
      "metadata": {
        "id": "vcrMwx-ZdHZO"
      },
      "outputs": [],
      "source": [
        "import gensim.downloader as api\n",
        "glove_model = api.load('glove-wiki-gigaword-300')"
      ]
    },
    {
      "cell_type": "code",
      "execution_count": null,
      "metadata": {
        "id": "eJhNpQ79R-lw"
      },
      "outputs": [],
      "source": [
        "G_dataset = AbbreviationDataset(data_train['tokens'], label_list, glove_model)\n",
        "G_dataloader = DataLoader(G_dataset, batch_size=4, shuffle=True, collate_fn=collate_fn)"
      ]
    },
    {
      "cell_type": "code",
      "execution_count": null,
      "metadata": {
        "id": "rUaTmehfSDMo"
      },
      "outputs": [],
      "source": [
        "G_test_dataset = AbbreviationDataset(data_test['tokens'], test_label_list, glove_model)\n",
        "G_test_dataloader = DataLoader(G_test_dataset, batch_size=2, shuffle=True, collate_fn=collate_fn)"
      ]
    },
    {
      "cell_type": "code",
      "execution_count": null,
      "metadata": {
        "id": "6NfQgOLUTe1k"
      },
      "outputs": [],
      "source": [
        "bilstm_glove_model = BiLSTM(embedding_dim=300, hidden_dim=150, tagset_size=4)\n"
      ]
    },
    {
      "cell_type": "code",
      "execution_count": null,
      "metadata": {
        "colab": {
          "base_uri": "https://localhost:8080/"
        },
        "id": "98XDthdaSHvw",
        "outputId": "19c18d86-e00c-4d86-eb53-65ae56844bef"
      },
      "outputs": [
        {
          "name": "stdout",
          "output_type": "stream",
          "text": [
            "Epoch 1, Loss: 0.1299743354320526\n",
            "Epoch 2, Loss: 0.22512228786945343\n",
            "Epoch 3, Loss: 0.45885324478149414\n",
            "Epoch 4, Loss: 0.13083423674106598\n",
            "Epoch 5, Loss: 0.18454843759536743\n",
            "Epoch 6, Loss: 0.15115772187709808\n",
            "Epoch 7, Loss: 0.11582496762275696\n",
            "Epoch 8, Loss: 0.1733078956604004\n",
            "Epoch 9, Loss: 0.08808708935976028\n",
            "Epoch 10, Loss: 0.13620008528232574\n"
          ]
        }
      ],
      "source": [
        "import torch.optim as optim\n",
        "import torch.nn as nn\n",
        "\n",
        "optimizer = optim.Adam(bilstm_glove_model.parameters(), lr=0.001)\n",
        "loss_function = nn.NLLLoss(ignore_index=-1)  # Ignore padding index\n",
        "\n",
        "\n",
        "for epoch in range(10):\n",
        "    bilstm_glove_model.train()\n",
        "    for batch in G_dataloader:\n",
        "        optimizer.zero_grad()\n",
        "        inputs = batch[\"tokens\"]\n",
        "        labels = batch[\"labels\"]\n",
        "\n",
        "        outputs = bilstm_glove_model(inputs)\n",
        "        loss = loss_function(outputs.view(-1, outputs.shape[-1]), labels.view(-1))\n",
        "\n",
        "        loss.backward()\n",
        "        optimizer.step()\n",
        "\n",
        "    print(f'Epoch {epoch + 1}, Loss: {loss.item()}')\n"
      ]
    },
    {
      "cell_type": "code",
      "execution_count": null,
      "metadata": {
        "id": "H3Jt7yEUST9P"
      },
      "outputs": [],
      "source": [
        "def evaluate_model(model, dataloader):\n",
        "    model.eval()\n",
        "    all_preds = []\n",
        "    all_labels = []\n",
        "\n",
        "    with torch.no_grad():\n",
        "        for batch in dataloader:\n",
        "            inputs = batch[\"tokens\"]\n",
        "            labels = batch[\"labels\"]\n",
        "\n",
        "            outputs = model(inputs)\n",
        "            _, predicted = torch.max(outputs, -1)\n",
        "\n",
        "            # Flatten the predictions and true labels\n",
        "            predicted = predicted.view(-1)\n",
        "            labels = labels.view(-1)\n",
        "\n",
        "            # Filter out padding labels\n",
        "            valid_indices = labels != -1\n",
        "            valid_labels = labels[valid_indices]\n",
        "            valid_predicted = predicted[valid_indices]\n",
        "\n",
        "            all_preds.extend(valid_predicted.tolist())\n",
        "            all_labels.extend(valid_labels.tolist())\n",
        "\n",
        "    return all_preds, all_labels\n"
      ]
    },
    {
      "cell_type": "code",
      "execution_count": null,
      "metadata": {
        "colab": {
          "base_uri": "https://localhost:8080/"
        },
        "id": "9wvCjui1hwzg",
        "outputId": "0cb76f51-6c78-4d82-af77-51998132c5b9"
      },
      "outputs": [
        {
          "name": "stdout",
          "output_type": "stream",
          "text": [
            "GloVe Model Performance:\n",
            "Accuracy: 0.8548\n",
            "Precision: 0.7742\n",
            "Recall: 0.6441\n",
            "F1-Score: 0.6962\n"
          ]
        }
      ],
      "source": [
        " #For GloVe model predictions\n",
        "accuracy_glove = accuracy_score(filtered_labels, filtered_preds)\n",
        "precision_glove, recall_glove, f1_glove, _ = precision_recall_fscore_support(\n",
        "    filtered_labels, filtered_preds, average='macro')\n",
        "\n",
        "print(\"GloVe Model Performance:\")\n",
        "print(f\"Accuracy: {accuracy_glove:.4f}\")\n",
        "print(f\"Precision: {precision_glove:.4f}\")\n",
        "print(f\"Recall: {recall_glove:.4f}\")\n",
        "print(f\"F1-Score: {f1_glove:.4f}\")\n"
      ]
    },
    {
      "cell_type": "code",
      "execution_count": null,
      "metadata": {
        "colab": {
          "base_uri": "https://localhost:8080/"
        },
        "id": "rQSQmwONUPYE",
        "outputId": "6338b350-3c40-4c78-e843-0135a4d072e0"
      },
      "outputs": [
        {
          "name": "stdout",
          "output_type": "stream",
          "text": [
            "              precision    recall  f1-score   support\n",
            "\n",
            "           0       0.93      0.94      0.93      7751\n",
            "           1       0.76      0.77      0.77       797\n",
            "           2       0.75      0.70      0.72       482\n",
            "           3       0.79      0.75      0.77      1227\n",
            "\n",
            "    accuracy                           0.89     10257\n",
            "   macro avg       0.81      0.79      0.80     10257\n",
            "weighted avg       0.89      0.89      0.89     10257\n",
            "\n",
            "[[7284  174   92  201]\n",
            " [ 176  613    3    5]\n",
            " [ 107    4  337   34]\n",
            " [ 276   13   17  921]]\n"
          ]
        }
      ],
      "source": [
        "from sklearn.metrics import classification_report, confusion_matrix\n",
        "\n",
        "bilstm_glove_model.eval()\n",
        "glove_preds = []\n",
        "glove_labels = []\n",
        "\n",
        "with torch.no_grad():\n",
        "    for batch in G_test_dataloader:\n",
        "        inputs = batch[\"tokens\"]\n",
        "        labels = batch[\"labels\"]\n",
        "\n",
        "        outputs = bilstm_glove_model(inputs)\n",
        "        _, predicted = torch.max(outputs, -1)\n",
        "\n",
        "        glove_preds.extend(predicted.view(-1).tolist())\n",
        "        glove_labels.extend(labels.view(-1).tolist())\n",
        "\n",
        "# Remove padding labels\n",
        "filtered_preds = [p for p, l in zip(glove_preds, glove_labels) if l != -1]\n",
        "filtered_labels = [l for l in glove_labels if l != -1]\n",
        "\n",
        "print(classification_report(filtered_labels, filtered_preds))\n",
        "print(confusion_matrix(filtered_labels, filtered_preds))\n"
      ]
    },
    {
      "cell_type": "code",
      "execution_count": null,
      "metadata": {
        "colab": {
          "base_uri": "https://localhost:8080/",
          "height": 564
        },
        "id": "cMcvrfHTUVtA",
        "outputId": "972014a3-95cb-4e16-816f-61acd055ba38"
      },
      "outputs": [
        {
          "data": {
            "image/png": "[encoded data removed]",
            "text/plain": [
              "<Figure size 800x600 with 2 Axes>"
            ]
          },
          "metadata": {},
          "output_type": "display_data"
        }
      ],
      "source": [
        "import matplotlib.pyplot as plt\n",
        "import seaborn as sns\n",
        "\n",
        "def plot_confusion_matrix(cm):\n",
        "    labels = ['O', 'B-AC', 'B-LF', 'I-LF']\n",
        "    plt.figure(figsize=(8, 6))\n",
        "    sns.heatmap(cm, annot=True, fmt='d', cmap='Blues', xticklabels=labels, yticklabels=labels)\n",
        "    plt.title('Confusion Matrix')\n",
        "    plt.xlabel('Predicted Labels')\n",
        "    plt.ylabel('True Labels')\n",
        "    plt.show()\n",
        "\n",
        "cm = confusion_matrix(filtered_labels, filtered_preds)\n",
        "plot_confusion_matrix(cm)\n"
      ]
    },
    {
      "cell_type": "code",
      "execution_count": null,
      "metadata": {
        "colab": {
          "base_uri": "https://localhost:8080/"
        },
        "id": "Up55y4keixmj",
        "outputId": "58b7ec9d-81c5-4a9f-8736-9914536abf1b"
      },
      "outputs": [
        {
          "name": "stdout",
          "output_type": "stream",
          "text": [
            "The             --> O\n",
            "patient         --> O\n",
            "was             --> O\n",
            "diagnosed       --> O\n",
            "with            --> O\n",
            "acute           --> B-LF\n",
            "myeloid         --> I-LF\n",
            "leukemia        --> I-LF\n",
            "(               --> O\n",
            "AML             --> B-AC\n",
            ")               --> O\n",
            ".               --> O\n"
          ]
        }
      ],
      "source": [
        "text_tokens = [\"The\", \"patient\", \"was\", \"diagnosed\", \"with\", \"acute\", \"myeloid\", \"leukemia\", \"(\", \"AML\", \")\", \".\"]\n",
        "\n",
        "# Prepare embedding vector for the tokens\n",
        "embeddings = [glove_model[word] if word in glove_model else np.zeros(300) for word in text_tokens]\n",
        "\n",
        "# Convert to tensor\n",
        "input_tensor = torch.tensor([embeddings], dtype=torch.float).to(DEVICE)  # [1, seq_len, 300]\n",
        "\n",
        "# Set model to eval\n",
        "bilstm_glove_model.eval()\n",
        "\n",
        "# Predict\n",
        "with torch.no_grad():\n",
        "    outputs = bilstm_glove_model(input_tensor)  # shape: [1, seq_len, tagset_size]\n",
        "    predicted_tags = torch.argmax(outputs, dim=-1).squeeze(0).tolist()  # remove batch dim\n",
        "\n",
        "# ID_TO_LABEL from your earlier steps (adjust as needed)\n",
        "ID_TO_LABEL = {0: \"O\", 1: \"B-AC\", 2: \"B-LF\", 3: \"I-LF\"}\n",
        "\n",
        "predicted_labels = [ID_TO_LABEL[tag_id] for tag_id in predicted_tags]\n",
        "\n",
        "# Show result\n",
        "for token, label in zip(text_tokens, predicted_labels):\n",
        "    print(f\"{token:15s} --> {label}\")\n"
      ]
    },
    {
      "cell_type": "code",
      "execution_count": null,
      "metadata": {
        "colab": {
          "base_uri": "https://localhost:8080/",
          "height": 607
        },
        "id": "RZ4IUBielak9",
        "outputId": "cb30a74c-0f5a-48cb-e8ea-0c18e07f955c"
      },
      "outputs": [
        {
          "data": {
            "image/png": "[encoded data removed]",
            "text/plain": [
              "<Figure size 1000x600 with 1 Axes>"
            ]
          },
          "metadata": {},
          "output_type": "display_data"
        }
      ],
      "source": [
        "import matplotlib.pyplot as plt\n",
        "import numpy as np\n",
        "\n",
        "# Models and metrics labels\n",
        "models = ['Word2Vec', 'GloVe']\n",
        "metrics = ['Accuracy', 'Precision', 'Recall', 'F1-Score']\n",
        "\n",
        "# Metrics values from your calculations\n",
        "values_word2vec = [accuracy_w2v * 100, precision_w2v * 100, recall_w2v * 100, f1_w2v * 100]\n",
        "values_glove = [accuracy_glove * 100, precision_glove * 100, recall_glove * 100, f1_glove * 100]\n",
        "\n",
        "x = np.arange(len(metrics))  # label locations\n",
        "width = 0.35  # width of the bars\n",
        "\n",
        "fig, ax = plt.subplots(figsize=(10, 6))\n",
        "\n",
        "rects1 = ax.bar(x - width/2, values_word2vec, width, label='Word2Vec')\n",
        "rects2 = ax.bar(x + width/2, values_glove, width, label='GloVe')\n",
        "\n",
        "# Add labels, title, and ticks\n",
        "ax.set_ylabel('Percentage')\n",
        "ax.set_title('Performance Metrics Comparison: Word2Vec vs GloVe')\n",
        "ax.set_xticks(x)\n",
        "ax.set_xticklabels(metrics)\n",
        "ax.legend()\n",
        "\n",
        "# Add data labels on top of bars\n",
        "def autolabel(rects):\n",
        "    for rect in rects:\n",
        "        height = rect.get_height()\n",
        "        ax.annotate(f'{height:.2f}%',\n",
        "                    xy=(rect.get_x() + rect.get_width() / 2, height),\n",
        "                    xytext=(0, 3),  # offset\n",
        "                    textcoords=\"offset points\",\n",
        "                    ha='center', va='bottom')\n",
        "\n",
        "autolabel(rects1)\n",
        "autolabel(rects2)\n",
        "\n",
        "fig.tight_layout()\n",
        "plt.show()\n"
      ]
    },
    {
      "cell_type": "code",
      "execution_count": null,
      "metadata": {
        "id": "ghP6AfM5VgUg"
      },
      "outputs": [],
      "source": []
    }
  ],
  "metadata": {
    "colab": {
      "provenance": []
    },
    "kernelspec": {
      "display_name": "Python 3",
      "name": "python3"
    },
    "language_info": {
      "codemirror_mode": {
        "name": "ipython",
        "version": 3
      },
      "file_extension": ".py",
      "mimetype": "text/x-python",
      "name": "python",
      "nbconvert_exporter": "python",
      "pygments_lexer": "ipython3",
      "version": "3.9.13"
    }
  },
  "nbformat": 4,
  "nbformat_minor": 0
}
